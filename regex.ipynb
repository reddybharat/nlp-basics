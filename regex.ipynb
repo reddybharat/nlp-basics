{
 "cells": [
  {
   "cell_type": "code",
   "execution_count": 1,
   "id": "7dfb762e-9160-48bb-9e37-bff76bbe77a0",
   "metadata": {},
   "outputs": [],
   "source": [
    "import re"
   ]
  },
  {
   "cell_type": "code",
   "execution_count": 11,
   "id": "e9028fbf-f2e4-4798-a142-fed4753d9895",
   "metadata": {},
   "outputs": [],
   "source": [
    "#text taken from wikipedia page\n",
    "text = '''\n",
    "Born\tElon Reeve Musk\n",
    "June 28, 1971 (age 52)\n",
    "Pretoria, Transvaal, South Africa\n",
    "Citizenship\t\n",
    "South Africa\n",
    "Canada\n",
    "United States\n",
    "Education\tUniversity of Pennsylvania (BA, BS)\n",
    "Title\t\n",
    "Founder, CEO, and chief engineer of SpaceX\n",
    "CEO and product architect of Tesla, Inc.\n",
    "Owner, CTO and Executive Chairman of X (formerly Twitter)\n",
    "President of the Musk Foundation\n",
    "Founder of The Boring Company, X Corp., and xAI\n",
    "Co-founder of Neuralink, OpenAI, Zip2, and X.com (part of PayPal)\n",
    "Spouses\t\n",
    "Justine Wilson\n",
    "​\n",
    "​(m. 2000; div. 2008)​\n",
    "Talulah Riley\n",
    "​\n",
    "​(m. 2010; div. 2012)​\n",
    "​\n",
    "​(m. 2013; div. 2016)​\n",
    "Partners\t\n",
    "Amber Heard (2015–2017)[1]\n",
    "Grimes (2018–2021)[2]\n",
    "Children\t11[a][4]\n",
    "Parents\t\n",
    "Errol Musk\n",
    "Maye Musk\n",
    "Relatives\t\n",
    "Kimbal Musk (brother)\n",
    "Tosca Musk (sister)\n",
    "Lyndon Rive (cousin)\n",
    "Family\tMusk family\n",
    "'''"
   ]
  },
  {
   "cell_type": "code",
   "execution_count": 17,
   "id": "d8ed72af-0aab-45c8-9616-693e7ae01d53",
   "metadata": {},
   "outputs": [
    {
     "name": "stderr",
     "output_type": "stream",
     "text": [
      "<>:2: SyntaxWarning: invalid escape sequence '\\d'\n",
      "<>:4: SyntaxWarning: invalid escape sequence '\\('\n",
      "<>:5: SyntaxWarning: invalid escape sequence '\\d'\n",
      "<>:2: SyntaxWarning: invalid escape sequence '\\d'\n",
      "<>:4: SyntaxWarning: invalid escape sequence '\\('\n",
      "<>:5: SyntaxWarning: invalid escape sequence '\\d'\n",
      "C:\\Users\\reddy\\AppData\\Local\\Temp\\ipykernel_11768\\2745883956.py:2: SyntaxWarning: invalid escape sequence '\\d'\n",
      "  age = re.findall(\"age (\\d+)\", text)\n",
      "C:\\Users\\reddy\\AppData\\Local\\Temp\\ipykernel_11768\\2745883956.py:4: SyntaxWarning: invalid escape sequence '\\('\n",
      "  birth_date = re.findall(\"Born.*\\n(.*)\\(age\", text)\n",
      "C:\\Users\\reddy\\AppData\\Local\\Temp\\ipykernel_11768\\2745883956.py:5: SyntaxWarning: invalid escape sequence '\\d'\n",
      "  birth_place = re.findall(\"age \\d+\\)\\n(.*)\", text)\n"
     ]
    }
   ],
   "source": [
    "def get_personal_information(text):\n",
    "    age = re.findall(\"age (\\d+)\", text)\n",
    "    full_name = re.findall(\"Born(.*)\\n\", text)\n",
    "    birth_date = re.findall(\"Born.*\\n(.*)\\(age\", text)\n",
    "    birth_place = re.findall(\"age \\d+\\)\\n(.*)\", text)\n",
    "\n",
    "    bio = {\n",
    "        \"Age\" : int(age[0]),\n",
    "        \"Name\" : full_name[0].strip(),\n",
    "        \"Birthday\" : birth_date[0].strip(),\n",
    "        \"Birthplace\" : birth_place[0].strip()}\n",
    "    print(bio)"
   ]
  },
  {
   "cell_type": "code",
   "execution_count": 18,
   "id": "1892045e-a53c-4e4b-bb44-326eefaa6b6e",
   "metadata": {},
   "outputs": [
    {
     "name": "stdout",
     "output_type": "stream",
     "text": [
      "{'Age': 52, 'Name': 'Elon Reeve Musk', 'Birthday': 'June 28, 1971', 'Birthplace': 'Pretoria, Transvaal, South Africa'}\n"
     ]
    }
   ],
   "source": [
    "get_personal_information(text)"
   ]
  },
  {
   "cell_type": "code",
   "execution_count": 5,
   "id": "5d5a6e05-e93e-47f6-a446-c916363b379d",
   "metadata": {},
   "outputs": [
    {
     "name": "stderr",
     "output_type": "stream",
     "text": [
      "<>:12: SyntaxWarning: invalid escape sequence '\\.'\n",
      "<>:12: SyntaxWarning: invalid escape sequence '\\.'\n",
      "C:\\Users\\reddy\\AppData\\Local\\Temp\\ipykernel_11768\\4248085951.py:12: SyntaxWarning: invalid escape sequence '\\.'\n",
      "  pattern = 'twitter\\.com\\/([A-Za-z0-9_]*)'\n"
     ]
    },
    {
     "data": {
      "text/plain": [
       "['elonmusk', 'teslarati', 'dummy_tesla', 'dummy_2_tesla']"
      ]
     },
     "execution_count": 5,
     "metadata": {},
     "output_type": "execute_result"
    }
   ],
   "source": [
    "#TODO: Extract all twitter handles from following text. Twitter handle is the text that appears after https://twitter.com/ and is a single word. \n",
    "#Also it contains only alpha numeric characters i.e. A-Z a-z , o to 9 and underscore _\n",
    "\n",
    "text = '''\n",
    "Follow our leader Elon musk on twitter here: https://twitter.com/elonmusk, more information \n",
    "on Tesla's products can be found at https://www.tesla.com/. Also here are leading influencers \n",
    "for tesla related news,\n",
    "https://twitter.com/teslarati\n",
    "https://twitter.com/dummy_tesla\n",
    "https://twitter.com/dummy_2_tesla\n",
    "'''\n",
    "pattern = 'twitter\\.com\\/([A-Za-z0-9_]*)' \n",
    "\n",
    "re.findall(pattern, text)"
   ]
  },
  {
   "cell_type": "code",
   "execution_count": 9,
   "id": "9cf517ec-2775-4509-b6c6-11c0a6ed113e",
   "metadata": {},
   "outputs": [
    {
     "data": {
      "text/plain": [
       "['Credit Risk', 'Supply Risk']"
      ]
     },
     "execution_count": 9,
     "metadata": {},
     "output_type": "execute_result"
    }
   ],
   "source": [
    "#TODO: Extract Concentration Risk Types. It will be a text that appears after \"Concentration of Risk:\", \n",
    "# In below example, your regex should extract these two strings : Credit Risk , Supply Risk\n",
    "\n",
    "text = '''\n",
    "Concentration of Risk: Credit Risk\n",
    "Financial instruments that potentially subject us to a concentration of credit risk consist of cash, cash equivalents, marketable securities,\n",
    "restricted cash, accounts receivable, convertible note hedges, and interest rate swaps. Our cash balances are primarily invested in money market funds\n",
    "or on deposit at high credit quality financial institutions in the U.S. These deposits are typically in excess of insured limits. As of September 30, 2021\n",
    "and December 31, 2020, no entity represented 10% or more of our total accounts receivable balance. The risk of concentration for our convertible note\n",
    "hedges and interest rate swaps is mitigated by transacting with several highly-rated multinational banks.\n",
    "Concentration of Risk: Supply Risk\n",
    "We are dependent on our suppliers, including single source suppliers, and the inability of these suppliers to deliver necessary components of our\n",
    "products in a timely manner at prices, quality levels and volumes acceptable to us, or our inability to efficiently manage these components from these\n",
    "suppliers, could have a material adverse effect on our business, prospects, financial condition and operating results.\n",
    "'''\n",
    "pattern = 'Concentration of Risk: ([^\\n]*)' \n",
    "\n",
    "re.findall(pattern, text)"
   ]
  },
  {
   "cell_type": "code",
   "execution_count": 19,
   "id": "7ebbbb41-ea01-4134-8f2a-cf814fe29f77",
   "metadata": {},
   "outputs": [
    {
     "name": "stderr",
     "output_type": "stream",
     "text": [
      "<>:9: SyntaxWarning: invalid escape sequence '\\d'\n",
      "<>:9: SyntaxWarning: invalid escape sequence '\\d'\n",
      "C:\\Users\\reddy\\AppData\\Local\\Temp\\ipykernel_11768\\3921573806.py:9: SyntaxWarning: invalid escape sequence '\\d'\n",
      "  pattern = 'FY(\\d{4} (?:Q[1-4]|S[1-2]))'\n"
     ]
    },
    {
     "data": {
      "text/plain": [
       "['2021 Q1', '2021 S1']"
      ]
     },
     "execution_count": 19,
     "metadata": {},
     "output_type": "execute_result"
    }
   ],
   "source": [
    "#TODO : Companies in europe reports their financial numbers of semi annual basis and you can have a document like this. \n",
    "#Hint : You need to use (?:) here to match everything enclosed\n",
    "\n",
    "text = '''\n",
    "Tesla's gross cost of operating lease vehicles in FY2021 Q1 was $4.85 billion.\n",
    "BMW's gross cost of operating vehicles in FY2021 S1 was $8 billion.\n",
    "'''\n",
    "\n",
    "pattern = 'FY(\\d{4} (?:Q[1-4]|S[1-2]))'\n",
    "matches = re.findall(pattern, text)\n",
    "matches"
   ]
  },
  {
   "cell_type": "code",
   "execution_count": null,
   "id": "5acd028c-4e4f-402e-96e8-736d4d2490d1",
   "metadata": {},
   "outputs": [],
   "source": []
  }
 ],
 "metadata": {
  "kernelspec": {
   "display_name": "Python 3 (ipykernel)",
   "language": "python",
   "name": "python3"
  },
  "language_info": {
   "codemirror_mode": {
    "name": "ipython",
    "version": 3
   },
   "file_extension": ".py",
   "mimetype": "text/x-python",
   "name": "python",
   "nbconvert_exporter": "python",
   "pygments_lexer": "ipython3",
   "version": "3.12.3"
  }
 },
 "nbformat": 4,
 "nbformat_minor": 5
}
