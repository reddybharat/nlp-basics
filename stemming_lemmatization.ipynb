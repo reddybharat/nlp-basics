{
 "cells": [
  {
   "cell_type": "code",
   "execution_count": 16,
   "id": "e9e031c9-f1f4-4952-9a3a-3bfe49f12805",
   "metadata": {},
   "outputs": [],
   "source": [
    "import spacy\n",
    "import nltk\n",
    "from nltk.stem import PorterStemmer\n",
    "stemmer = PorterStemmer()"
   ]
  },
  {
   "cell_type": "code",
   "execution_count": null,
   "id": "871ed688-399e-452b-bdbc-cd8c69071835",
   "metadata": {},
   "outputs": [],
   "source": [
    "#downloading all neccessary packages related to nltk\n",
    "nltk.download('all')"
   ]
  },
  {
   "cell_type": "code",
   "execution_count": 7,
   "id": "d0382d0d-5501-4115-a985-9d179163c5f2",
   "metadata": {},
   "outputs": [],
   "source": [
    "nlp = spacy.load(\"en_core_web_sm\")"
   ]
  },
  {
   "cell_type": "code",
   "execution_count": 17,
   "id": "e54b7264-bb7e-4f1b-bd14-a0fe846c0a8a",
   "metadata": {},
   "outputs": [
    {
     "name": "stdout",
     "output_type": "stream",
     "text": [
      "running | run\n",
      "painting | paint\n",
      "walking | walk\n",
      "dressing | dress\n",
      "likely | like\n",
      "children | children\n",
      "whom | whom\n",
      "good | good\n",
      "ate | ate\n",
      "fishing | fish\n"
     ]
    }
   ],
   "source": [
    "#TODO : Convert these list of words into base form using Stemming and Lemmatization and observe the transformations\n",
    "\n",
    "#using stemming in nltk\n",
    "lst_words = ['running', 'painting', 'walking', 'dressing', 'likely', 'children', 'whom', 'good', 'ate', 'fishing']\n",
    "\n",
    "for word in lst_words:\n",
    "    print(f\"{word} | {stemmer.stem(word)}\")"
   ]
  },
  {
   "cell_type": "code",
   "execution_count": 18,
   "id": "2f27715b-9e82-4a08-99be-0823ff6682ef",
   "metadata": {},
   "outputs": [
    {
     "name": "stdout",
     "output_type": "stream",
     "text": [
      "running  |  run\n",
      "painting  |  paint\n",
      "walking  |  walk\n",
      "dressing  |  dress\n",
      "likely  |  likely\n",
      "children  |  child\n",
      "who  |  who\n",
      "good  |  good\n",
      "ate  |  eat\n",
      "fishing  |  fishing\n"
     ]
    }
   ],
   "source": [
    "#using lemmatization in spacy\n",
    "doc = nlp(\"running painting walking dressing likely children who good ate fishing\")\n",
    "\n",
    "for token in doc:\n",
    "    print(token, \" | \", token.lemma_)"
   ]
  },
  {
   "cell_type": "code",
   "execution_count": 24,
   "id": "bdedb2fc-f927-445a-80cf-a1b48dced533",
   "metadata": {},
   "outputs": [],
   "source": [
    "#TODO : Convert the given text into it's base form using both stemming and lemmatization\n",
    "text = \"\"\"Latha is very multi talented girl.She is good at many skills like dancing, running, singing, playing.She also likes eating Pav Bhagi. she has a \n",
    "habit of fishing and swimming too.Besides all this, she is a wonderful at cooking too.\n",
    "\"\"\""
   ]
  },
  {
   "cell_type": "code",
   "execution_count": 23,
   "id": "9525ad42-959d-46f3-8593-72d69d711fa2",
   "metadata": {},
   "outputs": [
    {
     "data": {
      "text/plain": [
       "'latha is veri multi talent girl.sh is good at mani skill like danc , run , sing , playing.sh also like eat pav bhagi . she ha a habit of fish and swim too.besid all thi , she is a wonder at cook too .'"
      ]
     },
     "execution_count": 23,
     "metadata": {},
     "output_type": "execute_result"
    }
   ],
   "source": [
    "#using nltk\n",
    "\n",
    "all_word_tokens = nltk.word_tokenize(text)\n",
    "\n",
    "all_base_words = []\n",
    "for token in all_word_tokens:\n",
    "    all_base_words.append(stemmer.stem(token))\n",
    "\n",
    "final_text = ' '.join(all_base_words)\n",
    "final_text"
   ]
  },
  {
   "cell_type": "code",
   "execution_count": 25,
   "id": "365d868b-1796-425b-938c-b5e928e9e960",
   "metadata": {},
   "outputs": [
    {
     "data": {
      "text/plain": [
       "['Latha',\n",
       " 'be',\n",
       " 'very',\n",
       " 'multi',\n",
       " 'talented',\n",
       " 'girl',\n",
       " '.',\n",
       " 'she',\n",
       " 'be',\n",
       " 'good',\n",
       " 'at',\n",
       " 'many',\n",
       " 'skill',\n",
       " 'like',\n",
       " 'dancing',\n",
       " ',',\n",
       " 'running',\n",
       " ',',\n",
       " 'singing',\n",
       " ',',\n",
       " 'play',\n",
       " '.',\n",
       " 'she',\n",
       " 'also',\n",
       " 'like',\n",
       " 'eat',\n",
       " 'Pav',\n",
       " 'Bhagi',\n",
       " '.',\n",
       " 'she',\n",
       " 'have',\n",
       " 'a',\n",
       " '\\n',\n",
       " 'habit',\n",
       " 'of',\n",
       " 'fishing',\n",
       " 'and',\n",
       " 'swim',\n",
       " 'too',\n",
       " '.',\n",
       " 'besides',\n",
       " 'all',\n",
       " 'this',\n",
       " ',',\n",
       " 'she',\n",
       " 'be',\n",
       " 'a',\n",
       " 'wonderful',\n",
       " 'at',\n",
       " 'cook',\n",
       " 'too',\n",
       " '.',\n",
       " '\\n']"
      ]
     },
     "execution_count": 25,
     "metadata": {},
     "output_type": "execute_result"
    }
   ],
   "source": [
    "#using spacy\n",
    "\n",
    "doc = nlp(text)\n",
    "all_base_words = []\n",
    "\n",
    "for token in doc:\n",
    "    all_base_words.append(token.lemma_)\n",
    "\n",
    "all_base_words"
   ]
  },
  {
   "cell_type": "code",
   "execution_count": null,
   "id": "d70fd2a9-5125-4c36-85fb-30fbdc5f7154",
   "metadata": {},
   "outputs": [],
   "source": []
  }
 ],
 "metadata": {
  "kernelspec": {
   "display_name": "Python 3 (ipykernel)",
   "language": "python",
   "name": "python3"
  },
  "language_info": {
   "codemirror_mode": {
    "name": "ipython",
    "version": 3
   },
   "file_extension": ".py",
   "mimetype": "text/x-python",
   "name": "python",
   "nbconvert_exporter": "python",
   "pygments_lexer": "ipython3",
   "version": "3.12.3"
  }
 },
 "nbformat": 4,
 "nbformat_minor": 5
}
