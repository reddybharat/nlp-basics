{
 "cells": [
  {
   "cell_type": "code",
   "execution_count": 1,
   "id": "37599984-9b6f-4967-b937-6c1762211bc8",
   "metadata": {},
   "outputs": [],
   "source": [
    "import spacy\n",
    "\n",
    "nlp = spacy.load(\"en_core_web_sm\")"
   ]
  },
  {
   "cell_type": "code",
   "execution_count": 21,
   "id": "4c11cb25-c60b-4175-bfd4-04219a53afd7",
   "metadata": {},
   "outputs": [
    {
     "data": {
      "text/plain": [
       "['tok2vec', 'tagger', 'parser', 'attribute_ruler', 'lemmatizer', 'ner']"
      ]
     },
     "execution_count": 21,
     "metadata": {},
     "output_type": "execute_result"
    }
   ],
   "source": [
    "nlp.pipe_names #prebuilt pipeline with NER"
   ]
  },
  {
   "cell_type": "code",
   "execution_count": 25,
   "id": "9d712da4-48ad-4c6e-81bc-4bad697cb05d",
   "metadata": {},
   "outputs": [
    {
     "name": "stdout",
     "output_type": "stream",
     "text": [
      "Geographical entity names : [India, Delhi, Gujarat, Tamilnadu, Pongal, Andhrapradesh, Assam, Bihar]\n",
      "Count : 8\n"
     ]
    }
   ],
   "source": [
    "#TODO : Extract all the Geographical (cities, Countries, states) names from a given text\n",
    "text = \"\"\"Kiran want to know the famous foods in each state of India. So, he opened Google and search for this question. Google showed that\n",
    "in Delhi it is Chaat, in Gujarat it is Dal Dhokli, in Tamilnadu it is Pongal, in Andhrapradesh it is Biryani, in Assam it is Papaya Khar,\n",
    "in Bihar it is Litti Chowkha and so on for all other states\"\"\"\n",
    "\n",
    "doc = nlp(text)\n",
    "\n",
    "all_loc = []\n",
    "\n",
    "for ent in doc.ents:\n",
    "    #print(ent , '|', ent.label_, '|', spacy.explain(ent.label_)) #e.g India | GPE | Countries, cities, states\n",
    "    if(ent.label_ == 'GPE'):\n",
    "        all_loc.append(ent)\n",
    "print(f\"Geographical entity names : {all_loc}\")\n",
    "print(f\"Count : {len(all_loc)}\")"
   ]
  },
  {
   "cell_type": "code",
   "execution_count": 23,
   "id": "8bdd1321-720c-4f6b-ba83-77604657b5a5",
   "metadata": {},
   "outputs": [
    {
     "name": "stdout",
     "output_type": "stream",
     "text": [
      "Birth Dates : [24 April 1973, 5 November 1988, 7 July 1981, 19 December 1974]\n",
      "Count : 4\n"
     ]
    }
   ],
   "source": [
    "#TODO : Extract all the birth dates of cricketers in the given Text\n",
    "text = \"\"\"Sachin Tendulkar was born on 24 April 1973, Virat Kholi was born on 5 November 1988, Dhoni was born on 7 July 1981\n",
    "and finally Ricky ponting was born on 19 December 1974.\"\"\"\n",
    "\n",
    "doc = nlp(text)\n",
    "\n",
    "all_dates = []\n",
    "\n",
    "for ent in doc.ents:\n",
    "    #print(ent, '|', ent.label_, '|', spacy.explain(ent.label_)) #e.g 24 April 1973 | DATE | Absolute or relative dates or periods\n",
    "    if(ent.label_ == 'DATE'):\n",
    "        all_dates.append(ent)\n",
    "\n",
    "print(f\"Birth Dates : {all_dates}\")\n",
    "print(f\"Count : {len(all_dates)}\")"
   ]
  }
 ],
 "metadata": {
  "kernelspec": {
   "display_name": "Python 3 (ipykernel)",
   "language": "python",
   "name": "python3"
  },
  "language_info": {
   "codemirror_mode": {
    "name": "ipython",
    "version": 3
   },
   "file_extension": ".py",
   "mimetype": "text/x-python",
   "name": "python",
   "nbconvert_exporter": "python",
   "pygments_lexer": "ipython3",
   "version": "3.12.3"
  }
 },
 "nbformat": 4,
 "nbformat_minor": 5
}
